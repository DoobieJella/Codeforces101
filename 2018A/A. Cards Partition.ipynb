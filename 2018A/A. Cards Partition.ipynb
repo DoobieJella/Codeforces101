{
 "cells": [
  {
   "cell_type": "code",
   "execution_count": null,
   "id": "57ff3490",
   "metadata": {},
   "outputs": [],
   "source": [
    "tests = int(input())\n",
    "\n",
    "for i in range(tests):\n",
    "    n, k = map(int, input().split())\n",
    "    cnts = [int(i) for i in input().split()]\n",
    "    #list(map(int, input().split()))\n",
    "    maxn = max(cnts)\n",
    "    sumn = sum(cnts)\n",
    "    \n",
    "    ans = n\n",
    "    \n",
    "    while ans>1:\n",
    "        if k: # k > 0\n",
    "            upp, low = (sumn+k)//ans, sumn//ans \n",
    "            if upp > low:\n",
    "                if upp >= maxn:\n",
    "                    break\n",
    "            elif sumn%ans == 0:\n",
    "                if low >= maxn:\n",
    "                    break\n",
    "                \n",
    "        else: # k==0\n",
    "            if sumn%ans == 0 and sumn//ans >= maxn:\n",
    "                break\n",
    "                \n",
    "        ans -= 1\n",
    "                \n",
    "    \n",
    "    print(ans)\n",
    "    \n",
    "    \n",
    "    #print(min((sumn + k)//maxn, n))"
   ]
  }
 ],
 "metadata": {
  "kernelspec": {
   "display_name": "Python 3 (ipykernel)",
   "language": "python",
   "name": "python3"
  },
  "language_info": {
   "codemirror_mode": {
    "name": "ipython",
    "version": 3
   },
   "file_extension": ".py",
   "mimetype": "text/x-python",
   "name": "python",
   "nbconvert_exporter": "python",
   "pygments_lexer": "ipython3",
   "version": "3.11.4"
  }
 },
 "nbformat": 4,
 "nbformat_minor": 5
}
