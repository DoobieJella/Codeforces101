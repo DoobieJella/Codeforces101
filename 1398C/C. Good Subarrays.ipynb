{
 "cells": [
  {
   "cell_type": "code",
   "execution_count": null,
   "id": "78edb32e",
   "metadata": {},
   "outputs": [],
   "source": [
    "\n",
    "ntest = input()\n",
    "for i in range(ntest):\n",
    "    n = input()\n",
    "    s = input()\n",
    "    nums = []\n",
    "    for i in range(n):\n",
    "        nums.append(s[i])\n",
    "        \n",
    "    def recursion(l, r, sum, end):\n",
    "    if nums[r]==1:\n",
    "        return 1 + 2*recursion()\n",
    "        \n",
    "        \n",
    "    # lets say a[n] refers to good\n",
    "    # subarrays starting from n\n",
    "    then, if index 0 is subarray itself,\n",
    "    a[0] = 1+a[1]\n",
    "    else, a[0] = \n",
    "    \n",
    "    3120426337\n",
    "    \n",
    "    11011011001\n",
    "    \n",
    "    10"
   ]
  }
 ],
 "metadata": {
  "kernelspec": {
   "display_name": "Python 3 (ipykernel)",
   "language": "python",
   "name": "python3"
  },
  "language_info": {
   "codemirror_mode": {
    "name": "ipython",
    "version": 3
   },
   "file_extension": ".py",
   "mimetype": "text/x-python",
   "name": "python",
   "nbconvert_exporter": "python",
   "pygments_lexer": "ipython3",
   "version": "3.11.4"
  }
 },
 "nbformat": 4,
 "nbformat_minor": 5
}
