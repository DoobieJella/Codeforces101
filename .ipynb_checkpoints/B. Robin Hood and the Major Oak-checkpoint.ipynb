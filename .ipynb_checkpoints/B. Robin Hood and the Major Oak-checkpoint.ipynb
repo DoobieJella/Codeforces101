{
 "cells": [
  {
   "cell_type": "code",
   "execution_count": null,
   "id": "46ec090a",
   "metadata": {},
   "outputs": [],
   "source": [
    "tests = int(input())\n",
    "\n",
    "for i in range(tests):\n",
    "    n, k = map(int, input().split())\n",
    "    if (k + (n % 2)) % 4 <= 1:\n",
    "        print('YES')\n",
    "    else:\n",
    "        print('NO')\n",
    "        \n",
    "        \n",
    "        \n",
    "    "
   ]
  }
 ],
 "metadata": {
  "kernelspec": {
   "display_name": "Python 3 (ipykernel)",
   "language": "python",
   "name": "python3"
  },
  "language_info": {
   "codemirror_mode": {
    "name": "ipython",
    "version": 3
   },
   "file_extension": ".py",
   "mimetype": "text/x-python",
   "name": "python",
   "nbconvert_exporter": "python",
   "pygments_lexer": "ipython3",
   "version": "3.11.4"
  }
 },
 "nbformat": 4,
 "nbformat_minor": 5
}
